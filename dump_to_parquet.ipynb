{
 "cells": [
  {
   "cell_type": "code",
   "execution_count": 3,
   "metadata": {},
   "outputs": [],
   "source": [
    "import pandas as pd\n",
    "import sqlalchemy as sal\n",
    "from sqlalchemy import create_engine\n",
    "import os\n",
    "\n",
    "username=os.getenv('AC_DB_USER')\n",
    "password=os.getenv('AC_DB_PWD')\n",
    "host='alonsoacasql.database.windows.net'\n",
    "port='1433'\n",
    "database= 'app_sample_db'\n",
    "url = 'mssql+pyodbc://{user}:{passwd}@{host}:{port}/{db}?driver=SQL+Server'.format(user=username, passwd=password, host=host, port=port, db=database)\n",
    "# establishing the connection to the database using engine as an interface\n",
    "engine = create_engine(url)\n"
   ]
  },
  {
   "cell_type": "code",
   "execution_count": 4,
   "metadata": {},
   "outputs": [],
   "source": [
    "customers_df = pd.read_sql(\"\"\"\n",
    "            SELECT [CustomerID]\n",
    "                ,[NameStyle]\n",
    "                ,[Title]\n",
    "                ,[FirstName]\n",
    "                ,[MiddleName]\n",
    "                ,[LastName]\n",
    "                ,[Suffix]\n",
    "                ,[CompanyName]\n",
    "                ,[SalesPerson]\n",
    "                ,[EmailAddress]\n",
    "                ,[Phone]\n",
    "                ,[PasswordHash]\n",
    "                ,[PasswordSalt]\n",
    "                ,[rowguid]\n",
    "                ,[ModifiedDate]\n",
    "            FROM [SalesLT].[Customer]\n",
    "            \"\"\"\n",
    "            , engine)\n",
    "\n",
    "\n",
    "customers_df.to_parquet('./datasets/customer.parquet')"
   ]
  },
  {
   "cell_type": "code",
   "execution_count": 6,
   "metadata": {},
   "outputs": [],
   "source": [
    "SalesOrderHeader_df = pd.read_sql(\"\"\"\n",
    "SELECT [SalesOrderID]\n",
    "      ,[RevisionNumber]\n",
    "      ,[OrderDate]\n",
    "      ,[DueDate]\n",
    "      ,[ShipDate]\n",
    "      ,[Status]\n",
    "      ,[OnlineOrderFlag]\n",
    "      ,[SalesOrderNumber]\n",
    "      ,[PurchaseOrderNumber]\n",
    "      ,[AccountNumber]\n",
    "      ,[CustomerID]\n",
    "      ,[ShipToAddressID]\n",
    "      ,[BillToAddressID]\n",
    "      ,[ShipMethod]\n",
    "      ,[CreditCardApprovalCode]\n",
    "      ,[SubTotal]\n",
    "      ,[TaxAmt]\n",
    "      ,[Freight]\n",
    "      ,[TotalDue]\n",
    "      ,[Comment]\n",
    "      ,[rowguid]\n",
    "      ,[ModifiedDate]\n",
    "  FROM [SalesLT].[SalesOrderHeader]\n",
    "            \"\"\"\n",
    "            , engine)\n",
    "\n",
    "\n",
    "SalesOrderHeader_df.to_parquet('./datasets/sales_order_header.parquet')"
   ]
  },
  {
   "cell_type": "code",
   "execution_count": null,
   "metadata": {},
   "outputs": [],
   "source": []
  }
 ],
 "metadata": {
  "kernelspec": {
   "display_name": "Python 3.9.12 ('pyspark-test')",
   "language": "python",
   "name": "python3"
  },
  "language_info": {
   "codemirror_mode": {
    "name": "ipython",
    "version": 3
   },
   "file_extension": ".py",
   "mimetype": "text/x-python",
   "name": "python",
   "nbconvert_exporter": "python",
   "pygments_lexer": "ipython3",
   "version": "3.9.12"
  },
  "orig_nbformat": 4,
  "vscode": {
   "interpreter": {
    "hash": "df5816312dabc65626d1875a85be89bb8e0b3ed5432fcd00c1f5bed99ef75b6f"
   }
  }
 },
 "nbformat": 4,
 "nbformat_minor": 2
}
